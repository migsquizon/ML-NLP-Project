{
 "cells": [
  {
   "cell_type": "markdown",
   "metadata": {},
   "source": [
    "# Part 4\n",
    "\n",
    "We are starting from scratch, as we realized that our data structures from the previous parts are not optimized. Hence, it is not efficient to use that for our part 4 as it will likely take quite a long time to finish."
   ]
  },
  {
   "cell_type": "code",
   "execution_count": 2,
   "metadata": {},
   "outputs": [],
   "source": [
    "import os\n",
    "import numpy as np\n",
    "import pandas as pd\n",
    "from collections import defaultdict\n",
    "import re\n",
    "# from tqdm import tqdm, trange\n",
    "from tqdm import tqdm_notebook as tqdm, tnrange as trange"
   ]
  },
  {
   "cell_type": "code",
   "execution_count": 22,
   "metadata": {},
   "outputs": [],
   "source": [
    "dictionary = set()\n",
    "def learn_emissions(train_filename):\n",
    "    ''' Learns emissions parameters from data and returns them as a nested dictionary '''\n",
    "    with open(train_filename, \"r\") as f:\n",
    "        lines = f.readlines()\n",
    "\n",
    "    observations = set()\n",
    "    # Track emission counts\n",
    "    emissions = {} # Where key is y, and value is a dictionary of emissions x from y with their frequency\n",
    "\n",
    "    # Learn from data\n",
    "    for line in tqdm(lines, desc='Emissions'):\n",
    "        data_split = line.strip().rsplit(' ', 1)\n",
    "\n",
    "        # Only process valid lines\n",
    "        if len(data_split) == 2:\n",
    "            obs, state = data_split\n",
    "#             obs = clean_word(obs)\n",
    "            observations.add(obs)\n",
    "\n",
    "            # Track this emission\n",
    "            if state in emissions:\n",
    "                current_emissions = emissions[state]\n",
    "            else:\n",
    "                current_emissions = defaultdict(int)\n",
    "                \n",
    "            if obs not in dictionary:\n",
    "                dictionary.add(obs)\n",
    "                current_emissions[\"#UNK#\"] += 1\n",
    "                \n",
    "            current_emissions[obs] += 1\n",
    "            emissions[state] = current_emissions # Update\n",
    "    \n",
    "    emission_counts = {k: sum(emissions[k].values()) for k in emissions}\n",
    "    return emissions, emission_counts, observations\n",
    "\n",
    "\n",
    "def get_emission_parameters(emissions, emission_counts, observations, x, y, k=1):\n",
    "    ''' Returns the MLE of the emission parameters based on the emissions dictionary '''\n",
    "    if y not in emissions:  # edge case: no records of emission from this state\n",
    "        return 0\n",
    "    state_data = emissions[y]\n",
    "    count_y = emission_counts[y] #sum(state_data.values()) # Denominator\n",
    "    \n",
    "    if x not in observations:  # edge case: no records of emission of this word\n",
    "        count_y_x = k\n",
    "    else:\n",
    "        count_y_x = state_data[x]\n",
    "    \n",
    "    e = count_y_x / (count_y + k)\n",
    "    return e"
   ]
  },
  {
   "cell_type": "code",
   "execution_count": 23,
   "metadata": {},
   "outputs": [],
   "source": [
    "def learn_transitions(train_filename):\n",
    "    \"\"\"\n",
    "    Returns a dictionary containing (key, value) where\n",
    "        key: (t, u, v)\n",
    "        value: Count(t, u, v)\n",
    "    \"\"\"\n",
    "    with open(train_filename, 'r') as f:\n",
    "        lines = f.readlines()\n",
    "        \n",
    "    transitions = defaultdict(int)\n",
    "    prev_prev_state = 'PRESTART'\n",
    "    prev_state = 'START'\n",
    "    # avoid excessive indentations\n",
    "    for line in tqdm(lines, desc='Transitions'):\n",
    "        data_split = line.strip().rsplit(' ', 1)\n",
    "        \n",
    "        # line breaks -> new sequence\n",
    "        if len(data_split) < 2:\n",
    "            transitions[(prev_prev_state, prev_state, 'STOP')] += 1\n",
    "            prev_prev_state = 'PRESTART'\n",
    "            prev_state = 'START'\n",
    "            continue\n",
    "\n",
    "        obs, curr_state = data_split\n",
    "        transitions[(prev_prev_state, prev_state, curr_state)] += 1\n",
    "        prev_prev_state = prev_state\n",
    "        prev_state = curr_state\n",
    "        \n",
    "    # count number of 'from' states\n",
    "    transition_counts = defaultdict(int)\n",
    "    for (t, u, v), counts in transitions.items():\n",
    "        transition_counts[(t, u)] += counts\n",
    "\n",
    "    # get all unique states\n",
    "    t, u, v = zip(*transitions)\n",
    "    states = set(t) | set(u) | set(v)\n",
    "    return transitions, transition_counts, states\n",
    "\n",
    "def get_transition_parameters(transitions, transition_counts, t, u, v):\n",
    "    if transition_counts[(t, u)] == 0:  # edge case: no records of transitions starting from (t, u)\n",
    "        return 0\n",
    "    return transitions[(t, u, v)] / transition_counts[(t, u)]"
   ]
  },
  {
   "cell_type": "code",
   "execution_count": 40,
   "metadata": {},
   "outputs": [],
   "source": [
    "def viterbi(transitions, transition_counts, states, emissions, emission_counts, observations, obs_seq):\n",
    "    a = lambda prev2, prev, curr: get_transition_parameters(transitions, transition_counts, prev2, prev, curr)\n",
    "    b = lambda state, out: get_emission_parameters(emissions, emission_counts, observations, y=state, x=out)\n",
    "    \n",
    "    print('hello')\n",
    "    # create empty tables\n",
    "    n = len(obs_seq) + 2  # (PRESTART + START), (START, obs_seq[0]) + ... + (obs_seq[n], STOP) \n",
    "\n",
    "    state_combis = set()\n",
    "    for u in states:\n",
    "        for v in states:\n",
    "            state_combis.add((u,v))\n",
    "    P = pd.DataFrame(index=state_combis, columns=range(n)).fillna(0)  # probability table\n",
    "    B = pd.DataFrame(index=state_combis, columns=range(n))  # backpointer table\n",
    "\n",
    "    # initialization\n",
    "    P.loc[('PRESTART', 'START'), 0] = 1\n",
    "\n",
    "    # forward recursion\n",
    "    sentence = []\n",
    "    for j in tqdm(range(1, n-1)):\n",
    "#         x = clean_word(obs_seq[j-1])\n",
    "        x = obs_seq[j-1]\n",
    "        sentence.append(x)\n",
    "        if x not in dictionary:\n",
    "            x = \"#UNK#\"\n",
    "        for v in states:  # curr state\n",
    "            for u in states:  # prev state\n",
    "                for t in states: # prev_2 state\n",
    "                    p = P.loc[(t, u), j-1] * a(t, u, v) * b(v, x)\n",
    "                    if p > P.loc[(u, v), j]:\n",
    "                        P.loc[(u, v), j] = p  # update probability\n",
    "                        B.loc[(u, v), j] = t  # update backpointer - t is the grandfather\n",
    "    print(' '.join(sentence))\n",
    "\n",
    "    # termination\n",
    "    j = n - 1\n",
    "    v = 'STOP'\n",
    "    for u in states: # prev state\n",
    "        for t in states: # prev_2 state\n",
    "            p = P.loc[(t, u), j-1] * a(t, u, v)\n",
    "            if p > P.loc[(u, v), j]:\n",
    "                P.loc[(u, v), j] = p  # probability\n",
    "                B.loc[(u, v), j] = t  # backpointer\n",
    "\n",
    "    # backtracing\n",
    "    # second order viterbi requires backpropagation keep track of the second order item, \n",
    "    # as the limited horizon assumption is now limited to *two* entries instead.\n",
    "    state_pair = P[n-1].idxmax()\n",
    "    state_seq = []\n",
    "    for i in range(n-1, 0, -1):\n",
    "        next_state = B.loc[state_pair, i]\n",
    "        if isinstance(next_state, str):\n",
    "            state_seq.append(state_pair[1])\n",
    "            state_pair = (next_state, state_pair[0])\n",
    "        else: # edge case: no possible transition to START\n",
    "            for j in range(int(i)):\n",
    "                state_seq.append(('O'))\n",
    "            break\n",
    "    state_seq = state_seq[::-1][:-1]  # reverse and drop STOP\n",
    "    print(state_seq)\n",
    "    return P, B, state_seq"
   ]
  },
  {
   "cell_type": "code",
   "execution_count": 41,
   "metadata": {},
   "outputs": [],
   "source": [
    "def train(dataset):\n",
    "    \"\"\"\n",
    "    Takes in dataset name, obtains transition and emission parameters.\n",
    "    \"\"\"\n",
    "    train_filename = f'{dataset}/train'\n",
    "    # train\n",
    "    t = learn_transitions(train_filename)\n",
    "    e = learn_emissions(train_filename)\n",
    "    return t, e\n",
    "\n",
    "\n",
    "def validate(dataset, t, e):\n",
    "    \"\"\"\n",
    "    Takes in dataset name, and HMM parameters.\n",
    "    Use HMM parameters to estimate state sequence.\n",
    "    Write state sequence to file alongside input observation sequence.\n",
    "    \"\"\"\n",
    "    val_filename = f'{dataset}/dev.in'\n",
    "    out_filename = f'{dataset}/dev.p4.out'\n",
    "\n",
    "    # validate with train parameters\n",
    "    label_sequence = lambda sentence: viterbi(*t, *e, sentence)\n",
    "    \n",
    "    # read validation file for sequence\n",
    "    with open(val_filename, 'r') as f:\n",
    "        lines = f.readlines()\n",
    "\n",
    "    sentence = []\n",
    "    result = []\n",
    "    for word in tqdm(lines, desc=dataset):\n",
    "        if word == '\\n':\n",
    "            print(sentence)\n",
    "            print('hello')\n",
    "            _, _, s = label_sequence(sentence)  # ignore tables\n",
    "            print('hello')\n",
    "            result.extend(s)\n",
    "            result.append('\\n')\n",
    "            sentence = []\n",
    "        else:\n",
    "            sentence.append(word.strip())\n",
    "            \n",
    "    # write sequence to out file\n",
    "    with open(out_filename, 'w') as f:\n",
    "        for i in range(len(lines)):\n",
    "            word = lines[i].strip()\n",
    "            if word:\n",
    "                pred = result[i]\n",
    "                f.write(word + ' ' + pred)\n",
    "            f.write('\\n')"
   ]
  },
  {
   "cell_type": "code",
   "execution_count": null,
   "metadata": {},
   "outputs": [
    {
     "name": "stderr",
     "output_type": "stream",
     "text": [
      "/anaconda3/lib/python3.6/site-packages/ipykernel_launcher.py:14: TqdmDeprecationWarning: This function will be removed in tqdm==5.0.0\n",
      "Please use `tqdm.notebook.tqdm` instead of `tqdm.tqdm_notebook`\n",
      "  \n"
     ]
    },
    {
     "data": {
      "application/vnd.jupyter.widget-view+json": {
       "model_id": "d7e35e721cbe4f4bb8318a082bab53a3",
       "version_major": 2,
       "version_minor": 0
      },
      "text/html": [
       "<p>Failed to display Jupyter Widget of type <code>HBox</code>.</p>\n",
       "<p>\n",
       "  If you're reading this message in the Jupyter Notebook or JupyterLab Notebook, it may mean\n",
       "  that the widgets JavaScript is still loading. If this message persists, it\n",
       "  likely means that the widgets JavaScript library is either not installed or\n",
       "  not enabled. See the <a href=\"https://ipywidgets.readthedocs.io/en/stable/user_install.html\">Jupyter\n",
       "  Widgets Documentation</a> for setup instructions.\n",
       "</p>\n",
       "<p>\n",
       "  If you're reading this message in another frontend (for example, a static\n",
       "  rendering on GitHub or <a href=\"https://nbviewer.jupyter.org/\">NBViewer</a>),\n",
       "  it may mean that your frontend doesn't currently support widgets.\n",
       "</p>\n"
      ],
      "text/plain": [
       "HBox(children=(FloatProgress(value=0.0, description='Transitions', max=189291.0, style=ProgressStyle(description_width='initial')), HTML(value='')))"
      ]
     },
     "metadata": {},
     "output_type": "display_data"
    },
    {
     "name": "stdout",
     "output_type": "stream",
     "text": [
      "\n"
     ]
    },
    {
     "name": "stderr",
     "output_type": "stream",
     "text": [
      "/anaconda3/lib/python3.6/site-packages/ipykernel_launcher.py:12: TqdmDeprecationWarning: This function will be removed in tqdm==5.0.0\n",
      "Please use `tqdm.notebook.tqdm` instead of `tqdm.tqdm_notebook`\n",
      "  if sys.path[0] == '':\n"
     ]
    },
    {
     "data": {
      "application/vnd.jupyter.widget-view+json": {
       "model_id": "f9d107eef7a64a9e8cd6534cffe87cdc",
       "version_major": 2,
       "version_minor": 0
      },
      "text/html": [
       "<p>Failed to display Jupyter Widget of type <code>HBox</code>.</p>\n",
       "<p>\n",
       "  If you're reading this message in the Jupyter Notebook or JupyterLab Notebook, it may mean\n",
       "  that the widgets JavaScript is still loading. If this message persists, it\n",
       "  likely means that the widgets JavaScript library is either not installed or\n",
       "  not enabled. See the <a href=\"https://ipywidgets.readthedocs.io/en/stable/user_install.html\">Jupyter\n",
       "  Widgets Documentation</a> for setup instructions.\n",
       "</p>\n",
       "<p>\n",
       "  If you're reading this message in another frontend (for example, a static\n",
       "  rendering on GitHub or <a href=\"https://nbviewer.jupyter.org/\">NBViewer</a>),\n",
       "  it may mean that your frontend doesn't currently support widgets.\n",
       "</p>\n"
      ],
      "text/plain": [
       "HBox(children=(FloatProgress(value=0.0, description='Emissions', max=189291.0, style=ProgressStyle(description_width='initial')), HTML(value='')))"
      ]
     },
     "metadata": {},
     "output_type": "display_data"
    },
    {
     "name": "stdout",
     "output_type": "stream",
     "text": [
      "\n"
     ]
    },
    {
     "name": "stderr",
     "output_type": "stream",
     "text": [
      "/anaconda3/lib/python3.6/site-packages/ipykernel_launcher.py:30: TqdmDeprecationWarning: This function will be removed in tqdm==5.0.0\n",
      "Please use `tqdm.notebook.tqdm` instead of `tqdm.tqdm_notebook`\n"
     ]
    },
    {
     "data": {
      "application/vnd.jupyter.widget-view+json": {
       "model_id": "525693f90c8942adbedc6abe0b3c3d71",
       "version_major": 2,
       "version_minor": 0
      },
      "text/html": [
       "<p>Failed to display Jupyter Widget of type <code>HBox</code>.</p>\n",
       "<p>\n",
       "  If you're reading this message in the Jupyter Notebook or JupyterLab Notebook, it may mean\n",
       "  that the widgets JavaScript is still loading. If this message persists, it\n",
       "  likely means that the widgets JavaScript library is either not installed or\n",
       "  not enabled. See the <a href=\"https://ipywidgets.readthedocs.io/en/stable/user_install.html\">Jupyter\n",
       "  Widgets Documentation</a> for setup instructions.\n",
       "</p>\n",
       "<p>\n",
       "  If you're reading this message in another frontend (for example, a static\n",
       "  rendering on GitHub or <a href=\"https://nbviewer.jupyter.org/\">NBViewer</a>),\n",
       "  it may mean that your frontend doesn't currently support widgets.\n",
       "</p>\n"
      ],
      "text/plain": [
       "HBox(children=(FloatProgress(value=0.0, description='EN', max=27225.0, style=ProgressStyle(description_width='initial')), HTML(value='')))"
      ]
     },
     "metadata": {},
     "output_type": "display_data"
    },
    {
     "name": "stdout",
     "output_type": "stream",
     "text": [
      "['HBO', 'has', 'close', 'to', '24', 'million', 'subscribers', 'to', 'its', 'HBO', 'and', 'Cinemax', 'networks', ',', 'while', 'Showtime', 'and', 'its', 'sister', 'service', ',', 'The', 'Movie', 'Channel', ',', 'have', 'only', 'about', '10', 'million', ',', 'according', 'to', 'Paul', 'Kagan', 'Associates', ',', 'a', 'Carmel', ',', 'Calif.', ',', 'research', 'firm', '.']\n",
      "hello\n",
      "hello\n"
     ]
    },
    {
     "name": "stderr",
     "output_type": "stream",
     "text": [
      "/anaconda3/lib/python3.6/site-packages/ipykernel_launcher.py:21: TqdmDeprecationWarning: This function will be removed in tqdm==5.0.0\n",
      "Please use `tqdm.notebook.tqdm` instead of `tqdm.tqdm_notebook`\n"
     ]
    },
    {
     "data": {
      "application/vnd.jupyter.widget-view+json": {
       "model_id": "9582d18e94e7428c8830d3c0325c993f",
       "version_major": 2,
       "version_minor": 0
      },
      "text/html": [
       "<p>Failed to display Jupyter Widget of type <code>HBox</code>.</p>\n",
       "<p>\n",
       "  If you're reading this message in the Jupyter Notebook or JupyterLab Notebook, it may mean\n",
       "  that the widgets JavaScript is still loading. If this message persists, it\n",
       "  likely means that the widgets JavaScript library is either not installed or\n",
       "  not enabled. See the <a href=\"https://ipywidgets.readthedocs.io/en/stable/user_install.html\">Jupyter\n",
       "  Widgets Documentation</a> for setup instructions.\n",
       "</p>\n",
       "<p>\n",
       "  If you're reading this message in another frontend (for example, a static\n",
       "  rendering on GitHub or <a href=\"https://nbviewer.jupyter.org/\">NBViewer</a>),\n",
       "  it may mean that your frontend doesn't currently support widgets.\n",
       "</p>\n"
      ],
      "text/plain": [
       "HBox(children=(FloatProgress(value=0.0, max=45.0), HTML(value='')))"
      ]
     },
     "metadata": {},
     "output_type": "display_data"
    }
   ],
   "source": [
    "datasets = ['EN']\n",
    "for dataset in datasets:\n",
    "    t, e = train(dataset)\n",
    "    validate(dataset, t, e)"
   ]
  },
  {
   "cell_type": "code",
   "execution_count": null,
   "metadata": {},
   "outputs": [],
   "source": []
  }
 ],
 "metadata": {
  "kernelspec": {
   "display_name": "Python 3",
   "language": "python",
   "name": "python3"
  },
  "language_info": {
   "codemirror_mode": {
    "name": "ipython",
    "version": 3
   },
   "file_extension": ".py",
   "mimetype": "text/x-python",
   "name": "python",
   "nbconvert_exporter": "python",
   "pygments_lexer": "ipython3",
   "version": "3.6.4"
  }
 },
 "nbformat": 4,
 "nbformat_minor": 2
}
